{
 "cells": [
  {
   "cell_type": "code",
   "execution_count": 4,
   "metadata": {},
   "outputs": [],
   "source": [
    "import pandas as pd\n",
    "import numpy as np\n",
    "from sklearn.model_selection import train_test_split"
   ]
  },
  {
   "cell_type": "code",
   "execution_count": 102,
   "metadata": {},
   "outputs": [
    {
     "data": {
      "text/html": [
       "<div>\n",
       "<style scoped>\n",
       "    .dataframe tbody tr th:only-of-type {\n",
       "        vertical-align: middle;\n",
       "    }\n",
       "\n",
       "    .dataframe tbody tr th {\n",
       "        vertical-align: top;\n",
       "    }\n",
       "\n",
       "    .dataframe thead th {\n",
       "        text-align: right;\n",
       "    }\n",
       "</style>\n",
       "<table border=\"1\" class=\"dataframe\">\n",
       "  <thead>\n",
       "    <tr style=\"text-align: right;\">\n",
       "      <th></th>\n",
       "      <th>Time</th>\n",
       "      <th>Error</th>\n",
       "      <th>WEC: ava. windspeed</th>\n",
       "      <th>WEC : max. windspeed</th>\n",
       "      <th>WEC : min. windspeed</th>\n",
       "      <th>WEC: ava. Rotation</th>\n",
       "      <th>WEC: max. Rotation</th>\n",
       "      <th>WEC: min. Rotation</th>\n",
       "      <th>WEC: ava. Power</th>\n",
       "      <th>WEC: max. Power</th>\n",
       "      <th>...</th>\n",
       "      <th>CS101 : Nacelle cabinet temp.</th>\n",
       "      <th>CS101 : Main carrier temp.</th>\n",
       "      <th>CS101 : Rectifier cabinet temp.</th>\n",
       "      <th>CS101 : Yaw inverter cabinet temp.</th>\n",
       "      <th>CS101 : Fan inverter cabinet temp.</th>\n",
       "      <th>CS101 : Ambient temp.</th>\n",
       "      <th>CS101 : Tower temp.</th>\n",
       "      <th>CS101 : Control cabinet temp.</th>\n",
       "      <th>CS101 : Transformer temp.</th>\n",
       "      <th>RTU: ava. Setpoint 1</th>\n",
       "    </tr>\n",
       "  </thead>\n",
       "  <tbody>\n",
       "    <tr>\n",
       "      <th>0</th>\n",
       "      <td>01/05/2014 00:00:00</td>\n",
       "      <td>0</td>\n",
       "      <td>6.9</td>\n",
       "      <td>9.4</td>\n",
       "      <td>2.9</td>\n",
       "      <td>0.0</td>\n",
       "      <td>0.02</td>\n",
       "      <td>0.0</td>\n",
       "      <td>0</td>\n",
       "      <td>0</td>\n",
       "      <td>...</td>\n",
       "      <td>22</td>\n",
       "      <td>13</td>\n",
       "      <td>24</td>\n",
       "      <td>20</td>\n",
       "      <td>25</td>\n",
       "      <td>12</td>\n",
       "      <td>14</td>\n",
       "      <td>24</td>\n",
       "      <td>34</td>\n",
       "      <td>2501</td>\n",
       "    </tr>\n",
       "    <tr>\n",
       "      <th>1</th>\n",
       "      <td>01/05/2014 00:10:00</td>\n",
       "      <td>0</td>\n",
       "      <td>5.3</td>\n",
       "      <td>8.9</td>\n",
       "      <td>1.6</td>\n",
       "      <td>0.0</td>\n",
       "      <td>0.01</td>\n",
       "      <td>0.0</td>\n",
       "      <td>0</td>\n",
       "      <td>0</td>\n",
       "      <td>...</td>\n",
       "      <td>21</td>\n",
       "      <td>13</td>\n",
       "      <td>24</td>\n",
       "      <td>20</td>\n",
       "      <td>25</td>\n",
       "      <td>12</td>\n",
       "      <td>14</td>\n",
       "      <td>24</td>\n",
       "      <td>34</td>\n",
       "      <td>2501</td>\n",
       "    </tr>\n",
       "    <tr>\n",
       "      <th>2</th>\n",
       "      <td>01/05/2014 00:20:00</td>\n",
       "      <td>0</td>\n",
       "      <td>5.0</td>\n",
       "      <td>9.5</td>\n",
       "      <td>1.4</td>\n",
       "      <td>0.0</td>\n",
       "      <td>0.04</td>\n",
       "      <td>0.0</td>\n",
       "      <td>0</td>\n",
       "      <td>0</td>\n",
       "      <td>...</td>\n",
       "      <td>21</td>\n",
       "      <td>13</td>\n",
       "      <td>24</td>\n",
       "      <td>20</td>\n",
       "      <td>25</td>\n",
       "      <td>12</td>\n",
       "      <td>14</td>\n",
       "      <td>24</td>\n",
       "      <td>34</td>\n",
       "      <td>2501</td>\n",
       "    </tr>\n",
       "    <tr>\n",
       "      <th>3</th>\n",
       "      <td>01/05/2014 00:30:00</td>\n",
       "      <td>0</td>\n",
       "      <td>4.4</td>\n",
       "      <td>8.3</td>\n",
       "      <td>1.3</td>\n",
       "      <td>0.0</td>\n",
       "      <td>0.08</td>\n",
       "      <td>0.0</td>\n",
       "      <td>0</td>\n",
       "      <td>0</td>\n",
       "      <td>...</td>\n",
       "      <td>20</td>\n",
       "      <td>13</td>\n",
       "      <td>23</td>\n",
       "      <td>21</td>\n",
       "      <td>25</td>\n",
       "      <td>12</td>\n",
       "      <td>14</td>\n",
       "      <td>24</td>\n",
       "      <td>34</td>\n",
       "      <td>2501</td>\n",
       "    </tr>\n",
       "    <tr>\n",
       "      <th>4</th>\n",
       "      <td>01/05/2014 00:40:00</td>\n",
       "      <td>0</td>\n",
       "      <td>5.7</td>\n",
       "      <td>9.7</td>\n",
       "      <td>1.2</td>\n",
       "      <td>0.0</td>\n",
       "      <td>0.05</td>\n",
       "      <td>0.0</td>\n",
       "      <td>0</td>\n",
       "      <td>0</td>\n",
       "      <td>...</td>\n",
       "      <td>20</td>\n",
       "      <td>13</td>\n",
       "      <td>23</td>\n",
       "      <td>21</td>\n",
       "      <td>25</td>\n",
       "      <td>12</td>\n",
       "      <td>14</td>\n",
       "      <td>23</td>\n",
       "      <td>34</td>\n",
       "      <td>2501</td>\n",
       "    </tr>\n",
       "  </tbody>\n",
       "</table>\n",
       "<p>5 rows × 63 columns</p>\n",
       "</div>"
      ],
      "text/plain": [
       "                  Time  Error  WEC: ava. windspeed  WEC : max. windspeed  \\\n",
       "0  01/05/2014 00:00:00      0                  6.9                   9.4   \n",
       "1  01/05/2014 00:10:00      0                  5.3                   8.9   \n",
       "2  01/05/2014 00:20:00      0                  5.0                   9.5   \n",
       "3  01/05/2014 00:30:00      0                  4.4                   8.3   \n",
       "4  01/05/2014 00:40:00      0                  5.7                   9.7   \n",
       "\n",
       "   WEC : min. windspeed  WEC: ava. Rotation  WEC: max. Rotation  \\\n",
       "0                   2.9                 0.0                0.02   \n",
       "1                   1.6                 0.0                0.01   \n",
       "2                   1.4                 0.0                0.04   \n",
       "3                   1.3                 0.0                0.08   \n",
       "4                   1.2                 0.0                0.05   \n",
       "\n",
       "   WEC: min. Rotation  WEC: ava. Power  WEC: max. Power  ...  \\\n",
       "0                 0.0                0                0  ...   \n",
       "1                 0.0                0                0  ...   \n",
       "2                 0.0                0                0  ...   \n",
       "3                 0.0                0                0  ...   \n",
       "4                 0.0                0                0  ...   \n",
       "\n",
       "   CS101 : Nacelle cabinet temp.  CS101 : Main carrier temp.  \\\n",
       "0                             22                          13   \n",
       "1                             21                          13   \n",
       "2                             21                          13   \n",
       "3                             20                          13   \n",
       "4                             20                          13   \n",
       "\n",
       "   CS101 : Rectifier cabinet temp.  CS101 : Yaw inverter cabinet temp.  \\\n",
       "0                               24                                  20   \n",
       "1                               24                                  20   \n",
       "2                               24                                  20   \n",
       "3                               23                                  21   \n",
       "4                               23                                  21   \n",
       "\n",
       "   CS101 : Fan inverter cabinet temp.  CS101 : Ambient temp.  \\\n",
       "0                                  25                     12   \n",
       "1                                  25                     12   \n",
       "2                                  25                     12   \n",
       "3                                  25                     12   \n",
       "4                                  25                     12   \n",
       "\n",
       "   CS101 : Tower temp.  CS101 : Control cabinet temp.  \\\n",
       "0                   14                             24   \n",
       "1                   14                             24   \n",
       "2                   14                             24   \n",
       "3                   14                             24   \n",
       "4                   14                             23   \n",
       "\n",
       "   CS101 : Transformer temp.  RTU: ava. Setpoint 1  \n",
       "0                         34                  2501  \n",
       "1                         34                  2501  \n",
       "2                         34                  2501  \n",
       "3                         34                  2501  \n",
       "4                         34                  2501  \n",
       "\n",
       "[5 rows x 63 columns]"
      ]
     },
     "execution_count": 102,
     "metadata": {},
     "output_type": "execute_result"
    }
   ],
   "source": [
    "df=pd.read_csv('SCADA_data.csv')\n",
    "df.head()"
   ]
  },
  {
   "cell_type": "code",
   "execution_count": 106,
   "metadata": {},
   "outputs": [],
   "source": [
    "df['Inverter avg. temp']=df[[ 'CS101 : Sys 1 inverter 2 cabinet temp.',\n",
    "       'CS101 : Sys 1 inverter 3 cabinet temp.',\n",
    "       'CS101 : Sys 1 inverter 4 cabinet temp.',\n",
    "       'CS101 : Sys 1 inverter 5 cabinet temp.',\n",
    "       'CS101 : Sys 1 inverter 6 cabinet temp.',\n",
    "       'CS101 : Sys 1 inverter 7 cabinet temp.',\n",
    "       'CS101 : Sys 2 inverter 1 cabinet temp.',\n",
    "       'CS101 : Sys 2 inverter 2 cabinet temp.',\n",
    "       'CS101 : Sys 2 inverter 3 cabinet temp.',\n",
    "       'CS101 : Sys 2 inverter 4 cabinet temp.',\n",
    "       'CS101 : Sys 2 inverter 5 cabinet temp.',\n",
    "       'CS101 : Sys 2 inverter 6 cabinet temp.',\n",
    "       'CS101 : Sys 2 inverter 7 cabinet temp.']].mean(axis=1)\n",
    "\n",
    "df['Inverter std. temp']=df[[ 'CS101 : Sys 1 inverter 2 cabinet temp.',\n",
    "       'CS101 : Sys 1 inverter 3 cabinet temp.',\n",
    "       'CS101 : Sys 1 inverter 4 cabinet temp.',\n",
    "       'CS101 : Sys 1 inverter 5 cabinet temp.',\n",
    "       'CS101 : Sys 1 inverter 6 cabinet temp.',\n",
    "       'CS101 : Sys 1 inverter 7 cabinet temp.',\n",
    "       'CS101 : Sys 2 inverter 1 cabinet temp.',\n",
    "       'CS101 : Sys 2 inverter 2 cabinet temp.',\n",
    "       'CS101 : Sys 2 inverter 3 cabinet temp.',\n",
    "       'CS101 : Sys 2 inverter 4 cabinet temp.',\n",
    "       'CS101 : Sys 2 inverter 5 cabinet temp.',\n",
    "       'CS101 : Sys 2 inverter 6 cabinet temp.',\n",
    "       'CS101 : Sys 2 inverter 7 cabinet temp.']].std(axis=1)"
   ]
  },
  {
   "cell_type": "code",
   "execution_count": 112,
   "metadata": {},
   "outputs": [],
   "source": [
    "df['Time']=pd.to_datetime(df['Time'],dayfirst=True,errors='coerce')\n",
    "df.sort_values(by='Time',axis=0,inplace=True)\n",
    "df.reset_index(drop=True,inplace=True)"
   ]
  },
  {
   "cell_type": "code",
   "execution_count": 114,
   "metadata": {},
   "outputs": [],
   "source": [
    "df.rename(columns={'Error':'Fault'},inplace=True)"
   ]
  },
  {
   "cell_type": "code",
   "execution_count": 147,
   "metadata": {},
   "outputs": [
    {
     "data": {
      "text/plain": [
       "0    49027\n",
       "Name: Fault, dtype: int64"
      ]
     },
     "execution_count": 147,
     "metadata": {},
     "output_type": "execute_result"
    }
   ],
   "source": [
    "df['Fault']=[0]*len(df)\n",
    "df.Fault.value_counts()"
   ]
  },
  {
   "cell_type": "code",
   "execution_count": 128,
   "metadata": {},
   "outputs": [],
   "source": [
    "status_data_wec = pd.read_csv('status_data_wec.csv')\n",
    "af_corr_time_wec_s = status_data_wec.loc[(status_data_wec['Main Status']==62)|(status_data_wec['Main Status']==80)|\n",
    "                                         (status_data_wec['Main Status']==228)|(status_data_wec['Main Status']==60)|\n",
    "                                         (status_data_wec['Main Status']==9),\n",
    "                                         'Time']"
   ]
  },
  {
   "cell_type": "code",
   "execution_count": 129,
   "metadata": {},
   "outputs": [],
   "source": [
    "af_corr_time_wec_s=pd.to_datetime(af_corr_time_wec_s)\n",
    "af_corr_time_wes=af_corr_time_wec_s.round('10min')"
   ]
  },
  {
   "cell_type": "code",
   "execution_count": 148,
   "metadata": {},
   "outputs": [
    {
     "name": "stderr",
     "output_type": "stream",
     "text": [
      "C:\\Users\\bo.pei\\softwares\\Anaconda\\Install2020\\lib\\site-packages\\ipykernel_launcher.py:4: SettingWithCopyWarning: \n",
      "A value is trying to be set on a copy of a slice from a DataFrame\n",
      "\n",
      "See the caveats in the documentation: https://pandas.pydata.org/pandas-docs/stable/user_guide/indexing.html#returning-a-view-versus-a-copy\n",
      "  after removing the cwd from sys.path.\n"
     ]
    }
   ],
   "source": [
    "# 将df 中的时间与af_corr_time_wes的时间相同的样本的Fault设置为1\n",
    "for i,d in enumerate(df['Time']):\n",
    "    if d in af_corr_time_wes.values:\n",
    "        df['Fault'][i]=1"
   ]
  },
  {
   "cell_type": "code",
   "execution_count": 149,
   "metadata": {},
   "outputs": [
    {
     "data": {
      "text/plain": [
       "0    48886\n",
       "1      141\n",
       "Name: Fault, dtype: int64"
      ]
     },
     "execution_count": 149,
     "metadata": {},
     "output_type": "execute_result"
    }
   ],
   "source": [
    "df.Fault.value_counts()"
   ]
  },
  {
   "cell_type": "code",
   "execution_count": 150,
   "metadata": {},
   "outputs": [],
   "source": [
    "# 计算当前时间到最近的Fault之间的时间是多少\n",
    "nf_times=[]\n",
    "rul=[]\n",
    "for i,d in enumerate(df['Fault']):\n",
    "    nf_times.append(df['Time'][i])\n",
    "    if d==1:\n",
    "        for j in nf_times:\n",
    "            rul.append(df['Time'][i]-j)\n",
    "        nf_times=[]"
   ]
  },
  {
   "cell_type": "code",
   "execution_count": 154,
   "metadata": {},
   "outputs": [],
   "source": [
    "rul_days=[x.days for x in rul]"
   ]
  },
  {
   "cell_type": "code",
   "execution_count": 156,
   "metadata": {},
   "outputs": [],
   "source": [
    "df_trimmed=df.head(len(rul))"
   ]
  },
  {
   "cell_type": "code",
   "execution_count": 158,
   "metadata": {},
   "outputs": [
    {
     "name": "stderr",
     "output_type": "stream",
     "text": [
      "C:\\Users\\bo.pei\\softwares\\Anaconda\\Install2020\\lib\\site-packages\\ipykernel_launcher.py:1: SettingWithCopyWarning: \n",
      "A value is trying to be set on a copy of a slice from a DataFrame.\n",
      "Try using .loc[row_indexer,col_indexer] = value instead\n",
      "\n",
      "See the caveats in the documentation: https://pandas.pydata.org/pandas-docs/stable/user_guide/indexing.html#returning-a-view-versus-a-copy\n",
      "  \"\"\"Entry point for launching an IPython kernel.\n"
     ]
    }
   ],
   "source": [
    "df_trimmed['RUL']=rul_days"
   ]
  },
  {
   "cell_type": "code",
   "execution_count": 166,
   "metadata": {},
   "outputs": [],
   "source": [
    "cols_to_drop = ['Fault',\n",
    "                'CS101 : Sys 1 inverter 1 cabinet temp.',\n",
    "                'CS101 : Sys 1 inverter 2 cabinet temp.', \n",
    "                'CS101 : Sys 1 inverter 3 cabinet temp.', \n",
    "                'CS101 : Sys 1 inverter 4 cabinet temp.', \n",
    "                'CS101 : Sys 1 inverter 5 cabinet temp.', \n",
    "                'CS101 : Sys 1 inverter 6 cabinet temp.', \n",
    "                'CS101 : Sys 1 inverter 7 cabinet temp.',\n",
    "                'CS101 : Sys 2 inverter 1 cabinet temp.', \n",
    "                'CS101 : Sys 2 inverter 2 cabinet temp.',  \n",
    "                'CS101 : Sys 2 inverter 3 cabinet temp.',\n",
    "                'CS101 : Sys 2 inverter 4 cabinet temp.']"
   ]
  },
  {
   "cell_type": "code",
   "execution_count": 177,
   "metadata": {},
   "outputs": [],
   "source": [
    "#df_trimmed.drop(cols_to_drop,axis=1,inplace=True)"
   ]
  },
  {
   "cell_type": "code",
   "execution_count": 180,
   "metadata": {},
   "outputs": [
    {
     "data": {
      "text/html": [
       "<div>\n",
       "<style scoped>\n",
       "    .dataframe tbody tr th:only-of-type {\n",
       "        vertical-align: middle;\n",
       "    }\n",
       "\n",
       "    .dataframe tbody tr th {\n",
       "        vertical-align: top;\n",
       "    }\n",
       "\n",
       "    .dataframe thead th {\n",
       "        text-align: right;\n",
       "    }\n",
       "</style>\n",
       "<table border=\"1\" class=\"dataframe\">\n",
       "  <thead>\n",
       "    <tr style=\"text-align: right;\">\n",
       "      <th></th>\n",
       "      <th>WEC: ava. windspeed</th>\n",
       "      <th>WEC : max. windspeed</th>\n",
       "      <th>WEC : min. windspeed</th>\n",
       "      <th>WEC: ava. Rotation</th>\n",
       "      <th>WEC: max. Rotation</th>\n",
       "      <th>WEC: min. Rotation</th>\n",
       "      <th>WEC: ava. Power</th>\n",
       "      <th>WEC: max. Power</th>\n",
       "      <th>WEC: min. Power</th>\n",
       "      <th>WEC: ava. Nacel position including cable twisting</th>\n",
       "      <th>...</th>\n",
       "      <th>CS101 : Yaw inverter cabinet temp.</th>\n",
       "      <th>CS101 : Fan inverter cabinet temp.</th>\n",
       "      <th>CS101 : Ambient temp.</th>\n",
       "      <th>CS101 : Tower temp.</th>\n",
       "      <th>CS101 : Control cabinet temp.</th>\n",
       "      <th>CS101 : Transformer temp.</th>\n",
       "      <th>RTU: ava. Setpoint 1</th>\n",
       "      <th>Inverter avg. temp</th>\n",
       "      <th>Inverter std. temp</th>\n",
       "      <th>RUL</th>\n",
       "    </tr>\n",
       "    <tr>\n",
       "      <th>Time</th>\n",
       "      <th></th>\n",
       "      <th></th>\n",
       "      <th></th>\n",
       "      <th></th>\n",
       "      <th></th>\n",
       "      <th></th>\n",
       "      <th></th>\n",
       "      <th></th>\n",
       "      <th></th>\n",
       "      <th></th>\n",
       "      <th></th>\n",
       "      <th></th>\n",
       "      <th></th>\n",
       "      <th></th>\n",
       "      <th></th>\n",
       "      <th></th>\n",
       "      <th></th>\n",
       "      <th></th>\n",
       "      <th></th>\n",
       "      <th></th>\n",
       "      <th></th>\n",
       "    </tr>\n",
       "  </thead>\n",
       "  <tbody>\n",
       "    <tr>\n",
       "      <th>2014-05-01 00:00:00</th>\n",
       "      <td>6.9</td>\n",
       "      <td>9.4</td>\n",
       "      <td>2.9</td>\n",
       "      <td>0.0</td>\n",
       "      <td>0.02</td>\n",
       "      <td>0.0</td>\n",
       "      <td>0</td>\n",
       "      <td>0</td>\n",
       "      <td>0</td>\n",
       "      <td>640</td>\n",
       "      <td>...</td>\n",
       "      <td>20</td>\n",
       "      <td>25</td>\n",
       "      <td>12</td>\n",
       "      <td>14</td>\n",
       "      <td>24</td>\n",
       "      <td>34</td>\n",
       "      <td>2501</td>\n",
       "      <td>14.615385</td>\n",
       "      <td>23.059844</td>\n",
       "      <td>5</td>\n",
       "    </tr>\n",
       "    <tr>\n",
       "      <th>2014-05-01 00:10:00</th>\n",
       "      <td>5.3</td>\n",
       "      <td>8.9</td>\n",
       "      <td>1.6</td>\n",
       "      <td>0.0</td>\n",
       "      <td>0.01</td>\n",
       "      <td>0.0</td>\n",
       "      <td>0</td>\n",
       "      <td>0</td>\n",
       "      <td>0</td>\n",
       "      <td>640</td>\n",
       "      <td>...</td>\n",
       "      <td>20</td>\n",
       "      <td>25</td>\n",
       "      <td>12</td>\n",
       "      <td>14</td>\n",
       "      <td>24</td>\n",
       "      <td>34</td>\n",
       "      <td>2501</td>\n",
       "      <td>14.615385</td>\n",
       "      <td>23.059844</td>\n",
       "      <td>5</td>\n",
       "    </tr>\n",
       "    <tr>\n",
       "      <th>2014-05-01 00:20:00</th>\n",
       "      <td>5.0</td>\n",
       "      <td>9.5</td>\n",
       "      <td>1.4</td>\n",
       "      <td>0.0</td>\n",
       "      <td>0.04</td>\n",
       "      <td>0.0</td>\n",
       "      <td>0</td>\n",
       "      <td>0</td>\n",
       "      <td>0</td>\n",
       "      <td>640</td>\n",
       "      <td>...</td>\n",
       "      <td>20</td>\n",
       "      <td>25</td>\n",
       "      <td>12</td>\n",
       "      <td>14</td>\n",
       "      <td>24</td>\n",
       "      <td>34</td>\n",
       "      <td>2501</td>\n",
       "      <td>14.615385</td>\n",
       "      <td>23.059844</td>\n",
       "      <td>5</td>\n",
       "    </tr>\n",
       "    <tr>\n",
       "      <th>2014-05-01 00:30:00</th>\n",
       "      <td>4.4</td>\n",
       "      <td>8.3</td>\n",
       "      <td>1.3</td>\n",
       "      <td>0.0</td>\n",
       "      <td>0.08</td>\n",
       "      <td>0.0</td>\n",
       "      <td>0</td>\n",
       "      <td>0</td>\n",
       "      <td>0</td>\n",
       "      <td>641</td>\n",
       "      <td>...</td>\n",
       "      <td>21</td>\n",
       "      <td>25</td>\n",
       "      <td>12</td>\n",
       "      <td>14</td>\n",
       "      <td>24</td>\n",
       "      <td>34</td>\n",
       "      <td>2501</td>\n",
       "      <td>14.615385</td>\n",
       "      <td>23.059844</td>\n",
       "      <td>5</td>\n",
       "    </tr>\n",
       "    <tr>\n",
       "      <th>2014-05-01 00:40:00</th>\n",
       "      <td>5.7</td>\n",
       "      <td>9.7</td>\n",
       "      <td>1.2</td>\n",
       "      <td>0.0</td>\n",
       "      <td>0.05</td>\n",
       "      <td>0.0</td>\n",
       "      <td>0</td>\n",
       "      <td>0</td>\n",
       "      <td>0</td>\n",
       "      <td>633</td>\n",
       "      <td>...</td>\n",
       "      <td>21</td>\n",
       "      <td>25</td>\n",
       "      <td>12</td>\n",
       "      <td>14</td>\n",
       "      <td>23</td>\n",
       "      <td>34</td>\n",
       "      <td>2501</td>\n",
       "      <td>14.615385</td>\n",
       "      <td>23.059844</td>\n",
       "      <td>5</td>\n",
       "    </tr>\n",
       "  </tbody>\n",
       "</table>\n",
       "<p>5 rows × 53 columns</p>\n",
       "</div>"
      ],
      "text/plain": [
       "                     WEC: ava. windspeed  WEC : max. windspeed  \\\n",
       "Time                                                             \n",
       "2014-05-01 00:00:00                  6.9                   9.4   \n",
       "2014-05-01 00:10:00                  5.3                   8.9   \n",
       "2014-05-01 00:20:00                  5.0                   9.5   \n",
       "2014-05-01 00:30:00                  4.4                   8.3   \n",
       "2014-05-01 00:40:00                  5.7                   9.7   \n",
       "\n",
       "                     WEC : min. windspeed  WEC: ava. Rotation  \\\n",
       "Time                                                            \n",
       "2014-05-01 00:00:00                   2.9                 0.0   \n",
       "2014-05-01 00:10:00                   1.6                 0.0   \n",
       "2014-05-01 00:20:00                   1.4                 0.0   \n",
       "2014-05-01 00:30:00                   1.3                 0.0   \n",
       "2014-05-01 00:40:00                   1.2                 0.0   \n",
       "\n",
       "                     WEC: max. Rotation  WEC: min. Rotation  WEC: ava. Power  \\\n",
       "Time                                                                           \n",
       "2014-05-01 00:00:00                0.02                 0.0                0   \n",
       "2014-05-01 00:10:00                0.01                 0.0                0   \n",
       "2014-05-01 00:20:00                0.04                 0.0                0   \n",
       "2014-05-01 00:30:00                0.08                 0.0                0   \n",
       "2014-05-01 00:40:00                0.05                 0.0                0   \n",
       "\n",
       "                     WEC: max. Power  WEC: min. Power  \\\n",
       "Time                                                    \n",
       "2014-05-01 00:00:00                0                0   \n",
       "2014-05-01 00:10:00                0                0   \n",
       "2014-05-01 00:20:00                0                0   \n",
       "2014-05-01 00:30:00                0                0   \n",
       "2014-05-01 00:40:00                0                0   \n",
       "\n",
       "                     WEC: ava. Nacel position including cable twisting  ...  \\\n",
       "Time                                                                    ...   \n",
       "2014-05-01 00:00:00                                                640  ...   \n",
       "2014-05-01 00:10:00                                                640  ...   \n",
       "2014-05-01 00:20:00                                                640  ...   \n",
       "2014-05-01 00:30:00                                                641  ...   \n",
       "2014-05-01 00:40:00                                                633  ...   \n",
       "\n",
       "                     CS101 : Yaw inverter cabinet temp.  \\\n",
       "Time                                                      \n",
       "2014-05-01 00:00:00                                  20   \n",
       "2014-05-01 00:10:00                                  20   \n",
       "2014-05-01 00:20:00                                  20   \n",
       "2014-05-01 00:30:00                                  21   \n",
       "2014-05-01 00:40:00                                  21   \n",
       "\n",
       "                     CS101 : Fan inverter cabinet temp.  \\\n",
       "Time                                                      \n",
       "2014-05-01 00:00:00                                  25   \n",
       "2014-05-01 00:10:00                                  25   \n",
       "2014-05-01 00:20:00                                  25   \n",
       "2014-05-01 00:30:00                                  25   \n",
       "2014-05-01 00:40:00                                  25   \n",
       "\n",
       "                     CS101 : Ambient temp.  CS101 : Tower temp.  \\\n",
       "Time                                                              \n",
       "2014-05-01 00:00:00                     12                   14   \n",
       "2014-05-01 00:10:00                     12                   14   \n",
       "2014-05-01 00:20:00                     12                   14   \n",
       "2014-05-01 00:30:00                     12                   14   \n",
       "2014-05-01 00:40:00                     12                   14   \n",
       "\n",
       "                     CS101 : Control cabinet temp.  CS101 : Transformer temp.  \\\n",
       "Time                                                                            \n",
       "2014-05-01 00:00:00                             24                         34   \n",
       "2014-05-01 00:10:00                             24                         34   \n",
       "2014-05-01 00:20:00                             24                         34   \n",
       "2014-05-01 00:30:00                             24                         34   \n",
       "2014-05-01 00:40:00                             23                         34   \n",
       "\n",
       "                     RTU: ava. Setpoint 1  Inverter avg. temp  \\\n",
       "Time                                                            \n",
       "2014-05-01 00:00:00                  2501           14.615385   \n",
       "2014-05-01 00:10:00                  2501           14.615385   \n",
       "2014-05-01 00:20:00                  2501           14.615385   \n",
       "2014-05-01 00:30:00                  2501           14.615385   \n",
       "2014-05-01 00:40:00                  2501           14.615385   \n",
       "\n",
       "                     Inverter std. temp  RUL  \n",
       "Time                                          \n",
       "2014-05-01 00:00:00           23.059844    5  \n",
       "2014-05-01 00:10:00           23.059844    5  \n",
       "2014-05-01 00:20:00           23.059844    5  \n",
       "2014-05-01 00:30:00           23.059844    5  \n",
       "2014-05-01 00:40:00           23.059844    5  \n",
       "\n",
       "[5 rows x 53 columns]"
      ]
     },
     "execution_count": 180,
     "metadata": {},
     "output_type": "execute_result"
    }
   ],
   "source": [
    "df_trimmed.head()"
   ]
  },
  {
   "cell_type": "code",
   "execution_count": 179,
   "metadata": {},
   "outputs": [],
   "source": [
    "df_trimmed.set_index('Time',inplace=True)"
   ]
  },
  {
   "cell_type": "code",
   "execution_count": 181,
   "metadata": {},
   "outputs": [
    {
     "data": {
      "text/plain": [
       "(39442, 53)"
      ]
     },
     "execution_count": 181,
     "metadata": {},
     "output_type": "execute_result"
    }
   ],
   "source": [
    "df_trimmed.shape"
   ]
  },
  {
   "cell_type": "code",
   "execution_count": 183,
   "metadata": {},
   "outputs": [],
   "source": [
    "df_trimmed=df_trimmed.head(39298)\n",
    "df=df_trimmed.copy()\n",
    "features=df_trimmed.columns.tolist()"
   ]
  },
  {
   "cell_type": "code",
   "execution_count": 186,
   "metadata": {},
   "outputs": [],
   "source": [
    "df_list=[df[features].shift(shift_val) if shift_val==0 else df[features].shift(-shift_val).add_suffix(f'_{shift_val}') \n",
    "        for shift_val in range(0,5)]"
   ]
  },
  {
   "cell_type": "code",
   "execution_count": 194,
   "metadata": {},
   "outputs": [],
   "source": [
    "df_concat=pd.concat(df_list,axis=1,sort=False)"
   ]
  },
  {
   "cell_type": "code",
   "execution_count": 196,
   "metadata": {},
   "outputs": [],
   "source": [
    "df_concat=df_concat.iloc[:-5,:]"
   ]
  },
  {
   "cell_type": "code",
   "execution_count": 201,
   "metadata": {},
   "outputs": [],
   "source": [
    "from sklearn.model_selection import train_test_split\n",
    "target='RUL'\n",
    "x_train,x_test,y_train,y_test=train_test_split(df_concat,\n",
    "                                              df.iloc[:-5,:][target],\n",
    "                                              test_size=.02642894598,\n",
    "                                              random_state=0,\n",
    "                                              shuffle=False)"
   ]
  },
  {
   "cell_type": "code",
   "execution_count": 206,
   "metadata": {},
   "outputs": [],
   "source": [
    "import xgboost as xgb\n",
    "from sklearn.metrics import mean_squared_error as MSE,mean_absolute_error as MAE\n",
    "from sklearn.model_selection import TimeSeriesSplit\n",
    "from sklearn.model_selection import RandomizedSearchCV"
   ]
  },
  {
   "cell_type": "code",
   "execution_count": 207,
   "metadata": {},
   "outputs": [],
   "source": [
    "xgbr=xgb.XGBRegressor()\n",
    "param_grid={\n",
    "        'max_depth': [6, 10, 15, 20],\n",
    "        'learning_rate': [0.001, 0.01, 0.1, 0.2, 0,3],\n",
    "        'subsample': [0.5, 0.6, 0.7, 0.8, 0.9, 1.0],\n",
    "        'colsample_bytree': [0.4, 0.5, 0.6, 0.7, 0.8, 0.9, 1.0],\n",
    "        'colsample_bylevel': [0.4, 0.5, 0.6, 0.7, 0.8, 0.9, 1.0],\n",
    "        'min_child_weight': [0.5, 1.0, 3.0, 5.0, 7.0, 10.0],\n",
    "        'gamma': [0, 0.25, 0.5, 1.0],\n",
    "        'reg_lambda': [0.1, 1.0, 5.0, 10.0, 50.0, 100.0],\n",
    "        'n_estimators': [30, 40, 50, 60, 70, 90, 80, 100],\n",
    "        'objective': ['reg:squarederror']\n",
    "}"
   ]
  },
  {
   "cell_type": "code",
   "execution_count": 208,
   "metadata": {},
   "outputs": [],
   "source": [
    "rf_xgbr=RandomizedSearchCV(xgbr,\n",
    "                          param_grid,\n",
    "                          cv=5,\n",
    "                          n_jobs=1)"
   ]
  },
  {
   "cell_type": "code",
   "execution_count": 209,
   "metadata": {},
   "outputs": [
    {
     "name": "stderr",
     "output_type": "stream",
     "text": [
      "C:\\Users\\bo.pei\\softwares\\Anaconda\\Install2020\\lib\\site-packages\\xgboost\\data.py:114: UserWarning: Use subset (sliced data) of np.ndarray is not recommended because it will generate extra copies and increase memory consumption\n",
      "  \"because it will generate extra copies and increase \" +\n",
      "C:\\Users\\bo.pei\\softwares\\Anaconda\\Install2020\\lib\\site-packages\\xgboost\\data.py:114: UserWarning: Use subset (sliced data) of np.ndarray is not recommended because it will generate extra copies and increase memory consumption\n",
      "  \"because it will generate extra copies and increase \" +\n",
      "C:\\Users\\bo.pei\\softwares\\Anaconda\\Install2020\\lib\\site-packages\\xgboost\\data.py:114: UserWarning: Use subset (sliced data) of np.ndarray is not recommended because it will generate extra copies and increase memory consumption\n",
      "  \"because it will generate extra copies and increase \" +\n",
      "C:\\Users\\bo.pei\\softwares\\Anaconda\\Install2020\\lib\\site-packages\\xgboost\\data.py:114: UserWarning: Use subset (sliced data) of np.ndarray is not recommended because it will generate extra copies and increase memory consumption\n",
      "  \"because it will generate extra copies and increase \" +\n",
      "C:\\Users\\bo.pei\\softwares\\Anaconda\\Install2020\\lib\\site-packages\\xgboost\\data.py:114: UserWarning: Use subset (sliced data) of np.ndarray is not recommended because it will generate extra copies and increase memory consumption\n",
      "  \"because it will generate extra copies and increase \" +\n",
      "C:\\Users\\bo.pei\\softwares\\Anaconda\\Install2020\\lib\\site-packages\\xgboost\\data.py:114: UserWarning: Use subset (sliced data) of np.ndarray is not recommended because it will generate extra copies and increase memory consumption\n",
      "  \"because it will generate extra copies and increase \" +\n",
      "C:\\Users\\bo.pei\\softwares\\Anaconda\\Install2020\\lib\\site-packages\\xgboost\\data.py:114: UserWarning: Use subset (sliced data) of np.ndarray is not recommended because it will generate extra copies and increase memory consumption\n",
      "  \"because it will generate extra copies and increase \" +\n",
      "C:\\Users\\bo.pei\\softwares\\Anaconda\\Install2020\\lib\\site-packages\\xgboost\\data.py:114: UserWarning: Use subset (sliced data) of np.ndarray is not recommended because it will generate extra copies and increase memory consumption\n",
      "  \"because it will generate extra copies and increase \" +\n",
      "C:\\Users\\bo.pei\\softwares\\Anaconda\\Install2020\\lib\\site-packages\\xgboost\\data.py:114: UserWarning: Use subset (sliced data) of np.ndarray is not recommended because it will generate extra copies and increase memory consumption\n",
      "  \"because it will generate extra copies and increase \" +\n",
      "C:\\Users\\bo.pei\\softwares\\Anaconda\\Install2020\\lib\\site-packages\\xgboost\\data.py:114: UserWarning: Use subset (sliced data) of np.ndarray is not recommended because it will generate extra copies and increase memory consumption\n",
      "  \"because it will generate extra copies and increase \" +\n",
      "C:\\Users\\bo.pei\\softwares\\Anaconda\\Install2020\\lib\\site-packages\\xgboost\\data.py:114: UserWarning: Use subset (sliced data) of np.ndarray is not recommended because it will generate extra copies and increase memory consumption\n",
      "  \"because it will generate extra copies and increase \" +\n",
      "C:\\Users\\bo.pei\\softwares\\Anaconda\\Install2020\\lib\\site-packages\\xgboost\\data.py:114: UserWarning: Use subset (sliced data) of np.ndarray is not recommended because it will generate extra copies and increase memory consumption\n",
      "  \"because it will generate extra copies and increase \" +\n",
      "C:\\Users\\bo.pei\\softwares\\Anaconda\\Install2020\\lib\\site-packages\\xgboost\\data.py:114: UserWarning: Use subset (sliced data) of np.ndarray is not recommended because it will generate extra copies and increase memory consumption\n",
      "  \"because it will generate extra copies and increase \" +\n",
      "C:\\Users\\bo.pei\\softwares\\Anaconda\\Install2020\\lib\\site-packages\\xgboost\\data.py:114: UserWarning: Use subset (sliced data) of np.ndarray is not recommended because it will generate extra copies and increase memory consumption\n",
      "  \"because it will generate extra copies and increase \" +\n",
      "C:\\Users\\bo.pei\\softwares\\Anaconda\\Install2020\\lib\\site-packages\\xgboost\\data.py:114: UserWarning: Use subset (sliced data) of np.ndarray is not recommended because it will generate extra copies and increase memory consumption\n",
      "  \"because it will generate extra copies and increase \" +\n",
      "C:\\Users\\bo.pei\\softwares\\Anaconda\\Install2020\\lib\\site-packages\\xgboost\\data.py:114: UserWarning: Use subset (sliced data) of np.ndarray is not recommended because it will generate extra copies and increase memory consumption\n",
      "  \"because it will generate extra copies and increase \" +\n",
      "C:\\Users\\bo.pei\\softwares\\Anaconda\\Install2020\\lib\\site-packages\\xgboost\\data.py:114: UserWarning: Use subset (sliced data) of np.ndarray is not recommended because it will generate extra copies and increase memory consumption\n",
      "  \"because it will generate extra copies and increase \" +\n",
      "C:\\Users\\bo.pei\\softwares\\Anaconda\\Install2020\\lib\\site-packages\\xgboost\\data.py:114: UserWarning: Use subset (sliced data) of np.ndarray is not recommended because it will generate extra copies and increase memory consumption\n",
      "  \"because it will generate extra copies and increase \" +\n",
      "C:\\Users\\bo.pei\\softwares\\Anaconda\\Install2020\\lib\\site-packages\\xgboost\\data.py:114: UserWarning: Use subset (sliced data) of np.ndarray is not recommended because it will generate extra copies and increase memory consumption\n",
      "  \"because it will generate extra copies and increase \" +\n",
      "C:\\Users\\bo.pei\\softwares\\Anaconda\\Install2020\\lib\\site-packages\\xgboost\\data.py:114: UserWarning: Use subset (sliced data) of np.ndarray is not recommended because it will generate extra copies and increase memory consumption\n",
      "  \"because it will generate extra copies and increase \" +\n",
      "C:\\Users\\bo.pei\\softwares\\Anaconda\\Install2020\\lib\\site-packages\\xgboost\\data.py:114: UserWarning: Use subset (sliced data) of np.ndarray is not recommended because it will generate extra copies and increase memory consumption\n",
      "  \"because it will generate extra copies and increase \" +\n",
      "C:\\Users\\bo.pei\\softwares\\Anaconda\\Install2020\\lib\\site-packages\\xgboost\\data.py:114: UserWarning: Use subset (sliced data) of np.ndarray is not recommended because it will generate extra copies and increase memory consumption\n",
      "  \"because it will generate extra copies and increase \" +\n",
      "C:\\Users\\bo.pei\\softwares\\Anaconda\\Install2020\\lib\\site-packages\\xgboost\\data.py:114: UserWarning: Use subset (sliced data) of np.ndarray is not recommended because it will generate extra copies and increase memory consumption\n",
      "  \"because it will generate extra copies and increase \" +\n",
      "C:\\Users\\bo.pei\\softwares\\Anaconda\\Install2020\\lib\\site-packages\\xgboost\\data.py:114: UserWarning: Use subset (sliced data) of np.ndarray is not recommended because it will generate extra copies and increase memory consumption\n",
      "  \"because it will generate extra copies and increase \" +\n",
      "C:\\Users\\bo.pei\\softwares\\Anaconda\\Install2020\\lib\\site-packages\\xgboost\\data.py:114: UserWarning: Use subset (sliced data) of np.ndarray is not recommended because it will generate extra copies and increase memory consumption\n",
      "  \"because it will generate extra copies and increase \" +\n",
      "C:\\Users\\bo.pei\\softwares\\Anaconda\\Install2020\\lib\\site-packages\\xgboost\\data.py:114: UserWarning: Use subset (sliced data) of np.ndarray is not recommended because it will generate extra copies and increase memory consumption\n",
      "  \"because it will generate extra copies and increase \" +\n",
      "C:\\Users\\bo.pei\\softwares\\Anaconda\\Install2020\\lib\\site-packages\\xgboost\\data.py:114: UserWarning: Use subset (sliced data) of np.ndarray is not recommended because it will generate extra copies and increase memory consumption\n",
      "  \"because it will generate extra copies and increase \" +\n",
      "C:\\Users\\bo.pei\\softwares\\Anaconda\\Install2020\\lib\\site-packages\\xgboost\\data.py:114: UserWarning: Use subset (sliced data) of np.ndarray is not recommended because it will generate extra copies and increase memory consumption\n",
      "  \"because it will generate extra copies and increase \" +\n",
      "C:\\Users\\bo.pei\\softwares\\Anaconda\\Install2020\\lib\\site-packages\\xgboost\\data.py:114: UserWarning: Use subset (sliced data) of np.ndarray is not recommended because it will generate extra copies and increase memory consumption\n",
      "  \"because it will generate extra copies and increase \" +\n"
     ]
    },
    {
     "name": "stderr",
     "output_type": "stream",
     "text": [
      "C:\\Users\\bo.pei\\softwares\\Anaconda\\Install2020\\lib\\site-packages\\xgboost\\data.py:114: UserWarning: Use subset (sliced data) of np.ndarray is not recommended because it will generate extra copies and increase memory consumption\n",
      "  \"because it will generate extra copies and increase \" +\n",
      "C:\\Users\\bo.pei\\softwares\\Anaconda\\Install2020\\lib\\site-packages\\xgboost\\data.py:114: UserWarning: Use subset (sliced data) of np.ndarray is not recommended because it will generate extra copies and increase memory consumption\n",
      "  \"because it will generate extra copies and increase \" +\n",
      "C:\\Users\\bo.pei\\softwares\\Anaconda\\Install2020\\lib\\site-packages\\xgboost\\data.py:114: UserWarning: Use subset (sliced data) of np.ndarray is not recommended because it will generate extra copies and increase memory consumption\n",
      "  \"because it will generate extra copies and increase \" +\n",
      "C:\\Users\\bo.pei\\softwares\\Anaconda\\Install2020\\lib\\site-packages\\xgboost\\data.py:114: UserWarning: Use subset (sliced data) of np.ndarray is not recommended because it will generate extra copies and increase memory consumption\n",
      "  \"because it will generate extra copies and increase \" +\n",
      "C:\\Users\\bo.pei\\softwares\\Anaconda\\Install2020\\lib\\site-packages\\xgboost\\data.py:114: UserWarning: Use subset (sliced data) of np.ndarray is not recommended because it will generate extra copies and increase memory consumption\n",
      "  \"because it will generate extra copies and increase \" +\n",
      "C:\\Users\\bo.pei\\softwares\\Anaconda\\Install2020\\lib\\site-packages\\xgboost\\data.py:114: UserWarning: Use subset (sliced data) of np.ndarray is not recommended because it will generate extra copies and increase memory consumption\n",
      "  \"because it will generate extra copies and increase \" +\n",
      "C:\\Users\\bo.pei\\softwares\\Anaconda\\Install2020\\lib\\site-packages\\xgboost\\data.py:114: UserWarning: Use subset (sliced data) of np.ndarray is not recommended because it will generate extra copies and increase memory consumption\n",
      "  \"because it will generate extra copies and increase \" +\n",
      "C:\\Users\\bo.pei\\softwares\\Anaconda\\Install2020\\lib\\site-packages\\xgboost\\data.py:114: UserWarning: Use subset (sliced data) of np.ndarray is not recommended because it will generate extra copies and increase memory consumption\n",
      "  \"because it will generate extra copies and increase \" +\n",
      "C:\\Users\\bo.pei\\softwares\\Anaconda\\Install2020\\lib\\site-packages\\xgboost\\data.py:114: UserWarning: Use subset (sliced data) of np.ndarray is not recommended because it will generate extra copies and increase memory consumption\n",
      "  \"because it will generate extra copies and increase \" +\n",
      "C:\\Users\\bo.pei\\softwares\\Anaconda\\Install2020\\lib\\site-packages\\xgboost\\data.py:114: UserWarning: Use subset (sliced data) of np.ndarray is not recommended because it will generate extra copies and increase memory consumption\n",
      "  \"because it will generate extra copies and increase \" +\n",
      "C:\\Users\\bo.pei\\softwares\\Anaconda\\Install2020\\lib\\site-packages\\xgboost\\data.py:114: UserWarning: Use subset (sliced data) of np.ndarray is not recommended because it will generate extra copies and increase memory consumption\n",
      "  \"because it will generate extra copies and increase \" +\n",
      "C:\\Users\\bo.pei\\softwares\\Anaconda\\Install2020\\lib\\site-packages\\xgboost\\data.py:114: UserWarning: Use subset (sliced data) of np.ndarray is not recommended because it will generate extra copies and increase memory consumption\n",
      "  \"because it will generate extra copies and increase \" +\n",
      "C:\\Users\\bo.pei\\softwares\\Anaconda\\Install2020\\lib\\site-packages\\xgboost\\data.py:114: UserWarning: Use subset (sliced data) of np.ndarray is not recommended because it will generate extra copies and increase memory consumption\n",
      "  \"because it will generate extra copies and increase \" +\n",
      "C:\\Users\\bo.pei\\softwares\\Anaconda\\Install2020\\lib\\site-packages\\xgboost\\data.py:114: UserWarning: Use subset (sliced data) of np.ndarray is not recommended because it will generate extra copies and increase memory consumption\n",
      "  \"because it will generate extra copies and increase \" +\n",
      "C:\\Users\\bo.pei\\softwares\\Anaconda\\Install2020\\lib\\site-packages\\xgboost\\data.py:114: UserWarning: Use subset (sliced data) of np.ndarray is not recommended because it will generate extra copies and increase memory consumption\n",
      "  \"because it will generate extra copies and increase \" +\n",
      "C:\\Users\\bo.pei\\softwares\\Anaconda\\Install2020\\lib\\site-packages\\xgboost\\data.py:114: UserWarning: Use subset (sliced data) of np.ndarray is not recommended because it will generate extra copies and increase memory consumption\n",
      "  \"because it will generate extra copies and increase \" +\n",
      "C:\\Users\\bo.pei\\softwares\\Anaconda\\Install2020\\lib\\site-packages\\xgboost\\data.py:114: UserWarning: Use subset (sliced data) of np.ndarray is not recommended because it will generate extra copies and increase memory consumption\n",
      "  \"because it will generate extra copies and increase \" +\n",
      "C:\\Users\\bo.pei\\softwares\\Anaconda\\Install2020\\lib\\site-packages\\xgboost\\data.py:114: UserWarning: Use subset (sliced data) of np.ndarray is not recommended because it will generate extra copies and increase memory consumption\n",
      "  \"because it will generate extra copies and increase \" +\n",
      "C:\\Users\\bo.pei\\softwares\\Anaconda\\Install2020\\lib\\site-packages\\xgboost\\data.py:114: UserWarning: Use subset (sliced data) of np.ndarray is not recommended because it will generate extra copies and increase memory consumption\n",
      "  \"because it will generate extra copies and increase \" +\n",
      "C:\\Users\\bo.pei\\softwares\\Anaconda\\Install2020\\lib\\site-packages\\xgboost\\data.py:114: UserWarning: Use subset (sliced data) of np.ndarray is not recommended because it will generate extra copies and increase memory consumption\n",
      "  \"because it will generate extra copies and increase \" +\n",
      "C:\\Users\\bo.pei\\softwares\\Anaconda\\Install2020\\lib\\site-packages\\xgboost\\data.py:114: UserWarning: Use subset (sliced data) of np.ndarray is not recommended because it will generate extra copies and increase memory consumption\n",
      "  \"because it will generate extra copies and increase \" +\n"
     ]
    },
    {
     "data": {
      "text/plain": [
       "RandomizedSearchCV(cv=5,\n",
       "                   estimator=XGBRegressor(base_score=None, booster=None,\n",
       "                                          colsample_bylevel=None,\n",
       "                                          colsample_bynode=None,\n",
       "                                          colsample_bytree=None, gamma=None,\n",
       "                                          gpu_id=None, importance_type='gain',\n",
       "                                          interaction_constraints=None,\n",
       "                                          learning_rate=None,\n",
       "                                          max_delta_step=None, max_depth=None,\n",
       "                                          min_child_weight=None, missing=nan,\n",
       "                                          monotone_constraints=None,\n",
       "                                          n_estimators=100, n...\n",
       "                                                              0.7, 0.8, 0.9,\n",
       "                                                              1.0],\n",
       "                                        'colsample_bytree': [0.4, 0.5, 0.6, 0.7,\n",
       "                                                             0.8, 0.9, 1.0],\n",
       "                                        'gamma': [0, 0.25, 0.5, 1.0],\n",
       "                                        'learning_rate': [0.001, 0.01, 0.1, 0.2,\n",
       "                                                          0, 3],\n",
       "                                        'max_depth': [6, 10, 15, 20],\n",
       "                                        'min_child_weight': [0.5, 1.0, 3.0, 5.0,\n",
       "                                                             7.0, 10.0],\n",
       "                                        'n_estimators': [30, 40, 50, 60, 70, 90,\n",
       "                                                         80, 100],\n",
       "                                        'objective': ['reg:squarederror'],\n",
       "                                        'reg_lambda': [0.1, 1.0, 5.0, 10.0,\n",
       "                                                       50.0, 100.0],\n",
       "                                        'subsample': [0.5, 0.6, 0.7, 0.8, 0.9,\n",
       "                                                      1.0]})"
      ]
     },
     "execution_count": 209,
     "metadata": {},
     "output_type": "execute_result"
    }
   ],
   "source": [
    "rf_xgbr.fit(x_train,y_train)"
   ]
  },
  {
   "cell_type": "code",
   "execution_count": 210,
   "metadata": {},
   "outputs": [
    {
     "name": "stderr",
     "output_type": "stream",
     "text": [
      "C:\\Users\\bo.pei\\softwares\\Anaconda\\Install2020\\lib\\site-packages\\xgboost\\data.py:114: UserWarning: Use subset (sliced data) of np.ndarray is not recommended because it will generate extra copies and increase memory consumption\n",
      "  \"because it will generate extra copies and increase \" +\n"
     ]
    }
   ],
   "source": [
    "y_pred=rf_xgbr.predict(x_test)"
   ]
  },
  {
   "cell_type": "code",
   "execution_count": 213,
   "metadata": {},
   "outputs": [
    {
     "name": "stdout",
     "output_type": "stream",
     "text": [
      "RMSE:0.020167\n"
     ]
    }
   ],
   "source": [
    "rmse=np.sqrt(MSE(y_test,y_pred))\n",
    "print('RMSE:%f'%(rmse))"
   ]
  },
  {
   "cell_type": "code",
   "execution_count": 220,
   "metadata": {},
   "outputs": [],
   "source": [
    "df_out=pd.DataFrame()\n",
    "df_out['true']=np.ravel(y_test.values)\n",
    "df_out['pred']=np.ravel(y_pred)"
   ]
  },
  {
   "cell_type": "code",
   "execution_count": 222,
   "metadata": {},
   "outputs": [
    {
     "data": {
      "text/plain": [
       "<matplotlib.axes._subplots.AxesSubplot at 0x1ec5aace288>"
      ]
     },
     "execution_count": 222,
     "metadata": {},
     "output_type": "execute_result"
    },
    {
     "data": {
      "image/png": "[encoded data removed]",
      "text/plain": [
       "<Figure size 432x288 with 1 Axes>"
      ]
     },
     "metadata": {
      "needs_background": "light"
     },
     "output_type": "display_data"
    }
   ],
   "source": [
    "df_out.plot()"
   ]
  },
  {
   "cell_type": "code",
   "execution_count": 236,
   "metadata": {},
   "outputs": [
    {
     "data": {
      "text/plain": [
       "Text(0, 0.5, 'Pred Value')"
      ]
     },
     "execution_count": 236,
     "metadata": {},
     "output_type": "execute_result"
    },
    {
     "data": {
      "image/png": "[encoded data removed]",
      "text/plain": [
       "<Figure size 432x288 with 1 Axes>"
      ]
     },
     "metadata": {
      "needs_background": "light"
     },
     "output_type": "display_data"
    }
   ],
   "source": [
    "import matplotlib.pyplot as plt\n",
    "plt.scatter(df_out['true'].values,df_out['pred'].values,s=35,edgecolor='k',color='orange')\n",
    "plt.xlabel('True Value',color='r',fontweight='bold',fontsize=14)\n",
    "plt.ylabel('Pred Value',color='r',fontweight='bold',fontsize=14)"
   ]
  },
  {
   "cell_type": "code",
   "execution_count": 237,
   "metadata": {},
   "outputs": [],
   "source": [
    "import pickle\n",
    "pickle.dump(rf_xgbr,open('xgb_reg.pkl','wb'))"
   ]
  },
  {
   "cell_type": "code",
   "execution_count": null,
   "metadata": {},
   "outputs": [],
   "source": []
  },
  {
   "cell_type": "code",
   "execution_count": null,
   "metadata": {},
   "outputs": [],
   "source": []
  }
 ],
 "metadata": {
  "kernelspec": {
   "display_name": "Python 3",
   "language": "python",
   "name": "python3"
  },
  "language_info": {
   "codemirror_mode": {
    "name": "ipython",
    "version": 3
   },
   "file_extension": ".py",
   "mimetype": "text/x-python",
   "name": "python",
   "nbconvert_exporter": "python",
   "pygments_lexer": "ipython3",
   "version": "3.7.6"
  }
 },
 "nbformat": 4,
 "nbformat_minor": 4
}
