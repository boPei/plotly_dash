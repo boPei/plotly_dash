{
 "cells": [
  {
   "cell_type": "code",
   "execution_count": 2,
   "metadata": {},
   "outputs": [],
   "source": [
    "import pandas as pd\n",
    "import os"
   ]
  },
  {
   "cell_type": "code",
   "execution_count": 5,
   "metadata": {},
   "outputs": [
    {
     "data": {
      "text/plain": [
       "'C:\\\\Users\\\\bo.pei\\\\PycharmProjects\\\\pythonProj\\\\Plotly\\\\Dash\\\\studentPerformanceAnalytics\\\\dataset'"
      ]
     },
     "execution_count": 5,
     "metadata": {},
     "output_type": "execute_result"
    }
   ],
   "source": [
    "dataPath=os.path.abspath('dataset')\n",
    "dataPath"
   ]
  },
  {
   "cell_type": "code",
   "execution_count": 10,
   "metadata": {},
   "outputs": [],
   "source": [
    "assessment=pd.read_csv(os.path.join(dataPath,'assessments.csv'))\n",
    "course=pd.read_csv(os.path.join(dataPath,'courses.csv'))\n",
    "studentAssessment=pd.read_csv(os.path.join(dataPath,'studentAssessment.csv'))\n",
    "studentInfo=pd.read_csv(os.path.join(dataPath,'studentInfo.csv'))\n",
    "studentRegistration=pd.read_csv(os.path.join(dataPath,'studentRegistration.csv'))\n",
    "studentVle=pd.read_csv(os.path.join(dataPath,'studentVle.csv'))\n",
    "vle=pd.read_csv(os.path.join(dataPath,'vle.csv'))"
   ]
  },
  {
   "cell_type": "code",
   "execution_count": 11,
   "metadata": {},
   "outputs": [
    {
     "data": {
      "text/plain": [
       "resource          2660\n",
       "subpage           1055\n",
       "oucontent          996\n",
       "url                886\n",
       "forumng            194\n",
       "quiz               127\n",
       "page               102\n",
       "oucollaborate       82\n",
       "questionnaire       61\n",
       "ouwiki              49\n",
       "dataplus            28\n",
       "externalquiz        26\n",
       "homepage            22\n",
       "glossary            21\n",
       "ouelluminate        21\n",
       "dualpane            20\n",
       "repeatactivity       5\n",
       "htmlactivity         4\n",
       "sharedsubpage        3\n",
       "folder               2\n",
       "Name: activity_type, dtype: int64"
      ]
     },
     "execution_count": 11,
     "metadata": {},
     "output_type": "execute_result"
    }
   ],
   "source": [
    "vle.activity_type.value_counts()"
   ]
  },
  {
   "cell_type": "code",
   "execution_count": null,
   "metadata": {},
   "outputs": [],
   "source": []
  }
 ],
 "metadata": {
  "kernelspec": {
   "display_name": "Python 3",
   "language": "python",
   "name": "python3"
  },
  "language_info": {
   "codemirror_mode": {
    "name": "ipython",
    "version": 3
   },
   "file_extension": ".py",
   "mimetype": "text/x-python",
   "name": "python",
   "nbconvert_exporter": "python",
   "pygments_lexer": "ipython3",
   "version": "3.7.6"
  }
 },
 "nbformat": 4,
 "nbformat_minor": 4
}
